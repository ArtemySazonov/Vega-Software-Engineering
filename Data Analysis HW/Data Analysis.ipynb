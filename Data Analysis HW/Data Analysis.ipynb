{
 "cells": [
  {
   "cell_type": "markdown",
   "source": [
    "# Data Preprocessing Homework"
   ],
   "metadata": {
    "collapsed": false
   }
  },
  {
   "cell_type": "code",
   "execution_count": 1,
   "metadata": {
    "ExecuteTime": {
     "end_time": "2023-11-08T17:25:00.536401Z",
     "start_time": "2023-11-08T17:25:00.115084Z"
    }
   },
   "outputs": [],
   "source": [
    "import pandas as pd"
   ]
  },
  {
   "cell_type": "code",
   "execution_count": 2,
   "outputs": [
    {
     "data": {
      "text/plain": "  Ticker    Price One Year Price Return One Year Return Percentile  \\\n0   FANG  $102.81               167.05%                     98.42%   \n1   NVDA  $836.32               117.59%                     92.67%   \n2    DXC   $42.36               156.16%                     97.43%   \n3    OXY   $32.72                92.75%                     85.54%   \n4     IT  $258.87               107.52%                     91.09%   \n\n  Six Month Price Return Six Month Return Percentile Three Month Price Return  \\\n0                110.39%                      99.80%                   23.90%   \n1                 57.08%                      96.24%                   47.60%   \n2                 58.69%                      96.83%                   31.47%   \n3                 91.00%                      99.21%                   20.26%   \n4                 57.23%                      96.44%                   32.85%   \n\n  Three Month Return Percentile One Month Price Return  \\\n0                        95.84%                 15.58%   \n1                       100.00%                 25.29%   \n2                        99.01%                  6.28%   \n3                        92.28%                 15.90%   \n4                        99.60%                  6.90%   \n\n  One Month Return Percentile Momentum Score  Number of Shares to Buy  \n0                      97.23%         97.82%                      786  \n1                      99.60%         97.13%                       96  \n2                      83.56%         94.21%                     1909  \n3                      97.43%         93.61%                     2472  \n4                      84.75%         92.97%                      312  ",
      "text/html": "<div>\n<style scoped>\n    .dataframe tbody tr th:only-of-type {\n        vertical-align: middle;\n    }\n\n    .dataframe tbody tr th {\n        vertical-align: top;\n    }\n\n    .dataframe thead th {\n        text-align: right;\n    }\n</style>\n<table border=\"1\" class=\"dataframe\">\n  <thead>\n    <tr style=\"text-align: right;\">\n      <th></th>\n      <th>Ticker</th>\n      <th>Price</th>\n      <th>One Year Price Return</th>\n      <th>One Year Return Percentile</th>\n      <th>Six Month Price Return</th>\n      <th>Six Month Return Percentile</th>\n      <th>Three Month Price Return</th>\n      <th>Three Month Return Percentile</th>\n      <th>One Month Price Return</th>\n      <th>One Month Return Percentile</th>\n      <th>Momentum Score</th>\n      <th>Number of Shares to Buy</th>\n    </tr>\n  </thead>\n  <tbody>\n    <tr>\n      <th>0</th>\n      <td>FANG</td>\n      <td>$102.81</td>\n      <td>167.05%</td>\n      <td>98.42%</td>\n      <td>110.39%</td>\n      <td>99.80%</td>\n      <td>23.90%</td>\n      <td>95.84%</td>\n      <td>15.58%</td>\n      <td>97.23%</td>\n      <td>97.82%</td>\n      <td>786</td>\n    </tr>\n    <tr>\n      <th>1</th>\n      <td>NVDA</td>\n      <td>$836.32</td>\n      <td>117.59%</td>\n      <td>92.67%</td>\n      <td>57.08%</td>\n      <td>96.24%</td>\n      <td>47.60%</td>\n      <td>100.00%</td>\n      <td>25.29%</td>\n      <td>99.60%</td>\n      <td>97.13%</td>\n      <td>96</td>\n    </tr>\n    <tr>\n      <th>2</th>\n      <td>DXC</td>\n      <td>$42.36</td>\n      <td>156.16%</td>\n      <td>97.43%</td>\n      <td>58.69%</td>\n      <td>96.83%</td>\n      <td>31.47%</td>\n      <td>99.01%</td>\n      <td>6.28%</td>\n      <td>83.56%</td>\n      <td>94.21%</td>\n      <td>1909</td>\n    </tr>\n    <tr>\n      <th>3</th>\n      <td>OXY</td>\n      <td>$32.72</td>\n      <td>92.75%</td>\n      <td>85.54%</td>\n      <td>91.00%</td>\n      <td>99.21%</td>\n      <td>20.26%</td>\n      <td>92.28%</td>\n      <td>15.90%</td>\n      <td>97.43%</td>\n      <td>93.61%</td>\n      <td>2472</td>\n    </tr>\n    <tr>\n      <th>4</th>\n      <td>IT</td>\n      <td>$258.87</td>\n      <td>107.52%</td>\n      <td>91.09%</td>\n      <td>57.23%</td>\n      <td>96.44%</td>\n      <td>32.85%</td>\n      <td>99.60%</td>\n      <td>6.90%</td>\n      <td>84.75%</td>\n      <td>92.97%</td>\n      <td>312</td>\n    </tr>\n  </tbody>\n</table>\n</div>"
     },
     "execution_count": 2,
     "metadata": {},
     "output_type": "execute_result"
    }
   ],
   "source": [
    "df = pd.read_csv(\"momentum_strategy_1.csv\")\n",
    "df.head()"
   ],
   "metadata": {
    "collapsed": false,
    "ExecuteTime": {
     "end_time": "2023-11-08T17:25:00.550528Z",
     "start_time": "2023-11-08T17:25:00.537158Z"
    }
   }
  },
  {
   "cell_type": "code",
   "execution_count": 3,
   "outputs": [
    {
     "data": {
      "text/plain": "Ticker                           False\nPrice                            False\nOne Year Price Return            False\nOne Year Return Percentile       False\nSix Month Price Return            True\nSix Month Return Percentile      False\nThree Month Price Return          True\nThree Month Return Percentile    False\nOne Month Price Return           False\nOne Month Return Percentile      False\nMomentum Score                   False\nNumber of Shares to Buy          False\ndtype: bool"
     },
     "execution_count": 3,
     "metadata": {},
     "output_type": "execute_result"
    }
   ],
   "source": [
    "df.isna().any()"
   ],
   "metadata": {
    "collapsed": false,
    "ExecuteTime": {
     "end_time": "2023-11-08T17:25:00.551320Z",
     "start_time": "2023-11-08T17:25:00.549011Z"
    }
   }
  },
  {
   "cell_type": "markdown",
   "source": [
    "Since we have NaNs in returns *only*, we shall drop all rows containing them because we can't accurately estimate them."
   ],
   "metadata": {
    "collapsed": false
   }
  },
  {
   "cell_type": "code",
   "execution_count": 4,
   "outputs": [],
   "source": [
    "df = df.dropna().reset_index(drop=True)"
   ],
   "metadata": {
    "collapsed": false,
    "ExecuteTime": {
     "end_time": "2023-11-08T17:25:00.570478Z",
     "start_time": "2023-11-08T17:25:00.551929Z"
    }
   }
  },
  {
   "cell_type": "markdown",
   "source": [
    "We lost 1 ticker. Now we shall process the percentages."
   ],
   "metadata": {
    "collapsed": false
   }
  },
  {
   "cell_type": "code",
   "execution_count": 5,
   "outputs": [
    {
     "data": {
      "text/plain": "['One Year Price Return',\n 'One Year Return Percentile',\n 'Six Month Price Return',\n 'Six Month Return Percentile',\n 'Three Month Price Return',\n 'Three Month Return Percentile',\n 'One Month Price Return',\n 'One Month Return Percentile',\n 'Momentum Score']"
     },
     "execution_count": 5,
     "metadata": {},
     "output_type": "execute_result"
    }
   ],
   "source": [
    "column_names = list(df)\n",
    "column_names.pop(0)\n",
    "column_names.pop(0)\n",
    "column_names.pop(-1)\n",
    "column_names"
   ],
   "metadata": {
    "collapsed": false,
    "ExecuteTime": {
     "end_time": "2023-11-08T17:25:00.570807Z",
     "start_time": "2023-11-08T17:25:00.556956Z"
    }
   }
  },
  {
   "cell_type": "code",
   "execution_count": 6,
   "outputs": [],
   "source": [
    "for name in column_names:\n",
    "    df[name] = df[name].str.rstrip('%').astype('float') / 100.0"
   ],
   "metadata": {
    "collapsed": false,
    "ExecuteTime": {
     "end_time": "2023-11-08T17:25:00.582215Z",
     "start_time": "2023-11-08T17:25:00.563861Z"
    }
   }
  },
  {
   "cell_type": "markdown",
   "source": [
    "USD to `float`"
   ],
   "metadata": {
    "collapsed": false
   }
  },
  {
   "cell_type": "code",
   "execution_count": 7,
   "outputs": [
    {
     "name": "stdout",
     "output_type": "stream",
     "text": [
      "(17, 'USD2678.61')\n"
     ]
    }
   ],
   "source": [
    "for price in enumerate(df.Price):\n",
    "    if price[1].find(\"$\"):\n",
    "        print(price)"
   ],
   "metadata": {
    "collapsed": false,
    "ExecuteTime": {
     "end_time": "2023-11-08T17:25:00.582440Z",
     "start_time": "2023-11-08T17:25:00.566717Z"
    }
   }
  },
  {
   "cell_type": "code",
   "execution_count": 8,
   "metadata": {
    "ExecuteTime": {
     "end_time": "2023-11-08T17:25:00.582931Z",
     "start_time": "2023-11-08T17:25:00.570649Z"
    }
   },
   "outputs": [],
   "source": [
    "df.Price = df.Price.map(lambda x: float(x.replace(\"USD\", \"$\").replace(\"$\", \"\")))"
   ]
  },
  {
   "cell_type": "markdown",
   "source": [
    "Finally, the data is ready for some descriptive analysis."
   ],
   "metadata": {
    "collapsed": false
   }
  },
  {
   "cell_type": "code",
   "execution_count": 9,
   "outputs": [
    {
     "data": {
      "text/plain": "                               count         mean          std      min  \\\nPrice                           51.0   285.435686   515.626100  13.9700   \nOne Year Price Return           51.0     1.041796     0.565323   0.3213   \nOne Year Return Percentile      51.0     7.347116    46.560530   0.4911   \nSix Month Price Return          51.0     0.277547     1.540648 -10.3919   \nSix Month Return Percentile     51.0     0.872841     0.114821   0.5505   \nThree Month Price Return        51.0     0.205684     0.073345   0.0683   \nThree Month Return Percentile   51.0     0.888602     0.101527   0.5624   \nOne Month Price Return          51.0     0.071139     0.067901  -0.0103   \nOne Month Return Percentile     51.0     0.789204     0.159274   0.4574   \nMomentum Score                  51.0     0.842088     0.054827   0.7762   \nNumber of Shares to Buy         51.0  1027.921569  1149.979371  30.0000   \n\n                                     25%       50%         75%        max  \nPrice                           63.27500  121.6000   276.69000  2678.6100  \nOne Year Price Return            0.70365    0.9275     1.20490     3.9886  \nOne Year Return Percentile       0.72770    0.8634     0.94255   333.3347  \nSix Month Price Return           0.31895    0.4137     0.58840     1.1628  \nSix Month Return Percentile      0.80100    0.9050     0.96930     1.0000  \nThree Month Price Return         0.16660    0.1904     0.24400     0.4760  \nThree Month Return Percentile    0.86235    0.9089     0.96240     1.0000  \nOne Month Price Return           0.02165    0.0610     0.09470     0.3066  \nOne Month Return Percentile      0.67525    0.8317     0.91390     1.0000  \nMomentum Score                   0.79625    0.8317     0.87180     0.9782  \nNumber of Shares to Buy        293.00000  665.0000  1278.50000  5790.0000  ",
      "text/html": "<div>\n<style scoped>\n    .dataframe tbody tr th:only-of-type {\n        vertical-align: middle;\n    }\n\n    .dataframe tbody tr th {\n        vertical-align: top;\n    }\n\n    .dataframe thead th {\n        text-align: right;\n    }\n</style>\n<table border=\"1\" class=\"dataframe\">\n  <thead>\n    <tr style=\"text-align: right;\">\n      <th></th>\n      <th>count</th>\n      <th>mean</th>\n      <th>std</th>\n      <th>min</th>\n      <th>25%</th>\n      <th>50%</th>\n      <th>75%</th>\n      <th>max</th>\n    </tr>\n  </thead>\n  <tbody>\n    <tr>\n      <th>Price</th>\n      <td>51.0</td>\n      <td>285.435686</td>\n      <td>515.626100</td>\n      <td>13.9700</td>\n      <td>63.27500</td>\n      <td>121.6000</td>\n      <td>276.69000</td>\n      <td>2678.6100</td>\n    </tr>\n    <tr>\n      <th>One Year Price Return</th>\n      <td>51.0</td>\n      <td>1.041796</td>\n      <td>0.565323</td>\n      <td>0.3213</td>\n      <td>0.70365</td>\n      <td>0.9275</td>\n      <td>1.20490</td>\n      <td>3.9886</td>\n    </tr>\n    <tr>\n      <th>One Year Return Percentile</th>\n      <td>51.0</td>\n      <td>7.347116</td>\n      <td>46.560530</td>\n      <td>0.4911</td>\n      <td>0.72770</td>\n      <td>0.8634</td>\n      <td>0.94255</td>\n      <td>333.3347</td>\n    </tr>\n    <tr>\n      <th>Six Month Price Return</th>\n      <td>51.0</td>\n      <td>0.277547</td>\n      <td>1.540648</td>\n      <td>-10.3919</td>\n      <td>0.31895</td>\n      <td>0.4137</td>\n      <td>0.58840</td>\n      <td>1.1628</td>\n    </tr>\n    <tr>\n      <th>Six Month Return Percentile</th>\n      <td>51.0</td>\n      <td>0.872841</td>\n      <td>0.114821</td>\n      <td>0.5505</td>\n      <td>0.80100</td>\n      <td>0.9050</td>\n      <td>0.96930</td>\n      <td>1.0000</td>\n    </tr>\n    <tr>\n      <th>Three Month Price Return</th>\n      <td>51.0</td>\n      <td>0.205684</td>\n      <td>0.073345</td>\n      <td>0.0683</td>\n      <td>0.16660</td>\n      <td>0.1904</td>\n      <td>0.24400</td>\n      <td>0.4760</td>\n    </tr>\n    <tr>\n      <th>Three Month Return Percentile</th>\n      <td>51.0</td>\n      <td>0.888602</td>\n      <td>0.101527</td>\n      <td>0.5624</td>\n      <td>0.86235</td>\n      <td>0.9089</td>\n      <td>0.96240</td>\n      <td>1.0000</td>\n    </tr>\n    <tr>\n      <th>One Month Price Return</th>\n      <td>51.0</td>\n      <td>0.071139</td>\n      <td>0.067901</td>\n      <td>-0.0103</td>\n      <td>0.02165</td>\n      <td>0.0610</td>\n      <td>0.09470</td>\n      <td>0.3066</td>\n    </tr>\n    <tr>\n      <th>One Month Return Percentile</th>\n      <td>51.0</td>\n      <td>0.789204</td>\n      <td>0.159274</td>\n      <td>0.4574</td>\n      <td>0.67525</td>\n      <td>0.8317</td>\n      <td>0.91390</td>\n      <td>1.0000</td>\n    </tr>\n    <tr>\n      <th>Momentum Score</th>\n      <td>51.0</td>\n      <td>0.842088</td>\n      <td>0.054827</td>\n      <td>0.7762</td>\n      <td>0.79625</td>\n      <td>0.8317</td>\n      <td>0.87180</td>\n      <td>0.9782</td>\n    </tr>\n    <tr>\n      <th>Number of Shares to Buy</th>\n      <td>51.0</td>\n      <td>1027.921569</td>\n      <td>1149.979371</td>\n      <td>30.0000</td>\n      <td>293.00000</td>\n      <td>665.0000</td>\n      <td>1278.50000</td>\n      <td>5790.0000</td>\n    </tr>\n  </tbody>\n</table>\n</div>"
     },
     "execution_count": 9,
     "metadata": {},
     "output_type": "execute_result"
    }
   ],
   "source": [
    "df.describe().T"
   ],
   "metadata": {
    "collapsed": false,
    "ExecuteTime": {
     "end_time": "2023-11-08T17:25:00.641198Z",
     "start_time": "2023-11-08T17:25:00.574908Z"
    }
   }
  },
  {
   "cell_type": "markdown",
   "source": [
    "From the descriptive statistics table and the meaning of the given data we can clearly notice a few more problems with the dataset:\n",
    "\n",
    "1. `One Year Return Percentile` has a maximum value of 333.3347, which is not possible due to the percentile definition;\n",
    "2. `Six Month Price Return` has a minimum value of -10.3919. The minimal possible value is -1.0 (when the stock price goes to zero);\n",
    "3. Bath & Body Works Inc (`LB` ticker) has an annual return of 398.86%, which is strange, but given the pandemic, the strangeness disappears.\n",
    "\n",
    "We can extrapolate the problematic values for the percentiles and returns, but it not worth the effort (due to the size of the given dataset). Therefore, we shall drop them."
   ],
   "metadata": {
    "collapsed": false
   }
  },
  {
   "cell_type": "code",
   "execution_count": 10,
   "outputs": [],
   "source": [
    "df = df[df[\"One Year Return Percentile\"] <= 1.0]\n",
    "df = df[df[\"Six Month Price Return\"] >= -1.0]"
   ],
   "metadata": {
    "collapsed": false,
    "ExecuteTime": {
     "end_time": "2023-11-08T17:25:00.641380Z",
     "start_time": "2023-11-08T17:25:00.592201Z"
    }
   }
  },
  {
   "cell_type": "markdown",
   "source": [
    "The final dataset looks the following way:"
   ],
   "metadata": {
    "collapsed": false
   }
  },
  {
   "cell_type": "code",
   "execution_count": 11,
   "outputs": [
    {
     "data": {
      "text/plain": "                               count         mean          std      min  \\\nPrice                           49.0   284.944694   526.130657  13.9700   \nOne Year Price Return           49.0     1.068535     0.560461   0.4792   \nOne Year Return Percentile      49.0     0.834227     0.126672   0.5267   \nSix Month Price Return          49.0     0.492065     0.231070   0.2080   \nSix Month Return Percentile     49.0     0.871653     0.116923   0.5505   \nThree Month Price Return        49.0     0.203610     0.074103   0.0683   \nThree Month Return Percentile   49.0     0.885106     0.102073   0.5624   \nOne Month Price Return          49.0     0.064302     0.058253  -0.0103   \nOne Month Return Percentile     49.0     0.780884     0.156911   0.4574   \nMomentum Score                  49.0     0.842967     0.055731   0.7762   \nNumber of Shares to Buy         49.0  1058.387755  1163.304772  30.0000   \n\n                                    25%       50%        75%        max  \nPrice                           61.7300  102.8100   258.8700  2678.6100  \nOne Year Price Return            0.7146    0.9505     1.2170     3.9886  \nOne Year Return Percentile       0.7287    0.8634     0.9386     1.0000  \nSix Month Price Return           0.3245    0.4137     0.5899     1.1628  \nSix Month Return Percentile      0.7980    0.9050     0.9703     1.0000  \nThree Month Price Return         0.1644    0.1844     0.2390     0.4760  \nThree Month Return Percentile    0.8574    0.9030     0.9584     1.0000  \nOne Month Price Return           0.0166    0.0600     0.0871     0.2529  \nOne Month Return Percentile      0.6475    0.8297     0.8970     0.9960  \nMomentum Score                   0.7955    0.8361     0.8743     0.9782  \nNumber of Shares to Buy        312.0000  786.0000  1310.0000  5790.0000  ",
      "text/html": "<div>\n<style scoped>\n    .dataframe tbody tr th:only-of-type {\n        vertical-align: middle;\n    }\n\n    .dataframe tbody tr th {\n        vertical-align: top;\n    }\n\n    .dataframe thead th {\n        text-align: right;\n    }\n</style>\n<table border=\"1\" class=\"dataframe\">\n  <thead>\n    <tr style=\"text-align: right;\">\n      <th></th>\n      <th>count</th>\n      <th>mean</th>\n      <th>std</th>\n      <th>min</th>\n      <th>25%</th>\n      <th>50%</th>\n      <th>75%</th>\n      <th>max</th>\n    </tr>\n  </thead>\n  <tbody>\n    <tr>\n      <th>Price</th>\n      <td>49.0</td>\n      <td>284.944694</td>\n      <td>526.130657</td>\n      <td>13.9700</td>\n      <td>61.7300</td>\n      <td>102.8100</td>\n      <td>258.8700</td>\n      <td>2678.6100</td>\n    </tr>\n    <tr>\n      <th>One Year Price Return</th>\n      <td>49.0</td>\n      <td>1.068535</td>\n      <td>0.560461</td>\n      <td>0.4792</td>\n      <td>0.7146</td>\n      <td>0.9505</td>\n      <td>1.2170</td>\n      <td>3.9886</td>\n    </tr>\n    <tr>\n      <th>One Year Return Percentile</th>\n      <td>49.0</td>\n      <td>0.834227</td>\n      <td>0.126672</td>\n      <td>0.5267</td>\n      <td>0.7287</td>\n      <td>0.8634</td>\n      <td>0.9386</td>\n      <td>1.0000</td>\n    </tr>\n    <tr>\n      <th>Six Month Price Return</th>\n      <td>49.0</td>\n      <td>0.492065</td>\n      <td>0.231070</td>\n      <td>0.2080</td>\n      <td>0.3245</td>\n      <td>0.4137</td>\n      <td>0.5899</td>\n      <td>1.1628</td>\n    </tr>\n    <tr>\n      <th>Six Month Return Percentile</th>\n      <td>49.0</td>\n      <td>0.871653</td>\n      <td>0.116923</td>\n      <td>0.5505</td>\n      <td>0.7980</td>\n      <td>0.9050</td>\n      <td>0.9703</td>\n      <td>1.0000</td>\n    </tr>\n    <tr>\n      <th>Three Month Price Return</th>\n      <td>49.0</td>\n      <td>0.203610</td>\n      <td>0.074103</td>\n      <td>0.0683</td>\n      <td>0.1644</td>\n      <td>0.1844</td>\n      <td>0.2390</td>\n      <td>0.4760</td>\n    </tr>\n    <tr>\n      <th>Three Month Return Percentile</th>\n      <td>49.0</td>\n      <td>0.885106</td>\n      <td>0.102073</td>\n      <td>0.5624</td>\n      <td>0.8574</td>\n      <td>0.9030</td>\n      <td>0.9584</td>\n      <td>1.0000</td>\n    </tr>\n    <tr>\n      <th>One Month Price Return</th>\n      <td>49.0</td>\n      <td>0.064302</td>\n      <td>0.058253</td>\n      <td>-0.0103</td>\n      <td>0.0166</td>\n      <td>0.0600</td>\n      <td>0.0871</td>\n      <td>0.2529</td>\n    </tr>\n    <tr>\n      <th>One Month Return Percentile</th>\n      <td>49.0</td>\n      <td>0.780884</td>\n      <td>0.156911</td>\n      <td>0.4574</td>\n      <td>0.6475</td>\n      <td>0.8297</td>\n      <td>0.8970</td>\n      <td>0.9960</td>\n    </tr>\n    <tr>\n      <th>Momentum Score</th>\n      <td>49.0</td>\n      <td>0.842967</td>\n      <td>0.055731</td>\n      <td>0.7762</td>\n      <td>0.7955</td>\n      <td>0.8361</td>\n      <td>0.8743</td>\n      <td>0.9782</td>\n    </tr>\n    <tr>\n      <th>Number of Shares to Buy</th>\n      <td>49.0</td>\n      <td>1058.387755</td>\n      <td>1163.304772</td>\n      <td>30.0000</td>\n      <td>312.0000</td>\n      <td>786.0000</td>\n      <td>1310.0000</td>\n      <td>5790.0000</td>\n    </tr>\n  </tbody>\n</table>\n</div>"
     },
     "execution_count": 11,
     "metadata": {},
     "output_type": "execute_result"
    }
   ],
   "source": [
    "df.describe().T"
   ],
   "metadata": {
    "collapsed": false,
    "ExecuteTime": {
     "end_time": "2023-11-08T17:25:00.693787Z",
     "start_time": "2023-11-08T17:25:00.597765Z"
    }
   }
  },
  {
   "cell_type": "code",
   "execution_count": 12,
   "outputs": [
    {
     "data": {
      "text/plain": "   Ticker    Price  One Year Price Return  One Year Return Percentile  \\\n0    FANG   102.81                 1.6705                      0.9842   \n1    NVDA   836.32                 1.1759                      0.9267   \n2     DXC    42.36                 1.5616                      0.9743   \n3     OXY    32.72                 0.9275                      0.8554   \n4      IT   258.87                 1.0752                      0.9109   \n5    FTNT   251.21                 0.7522                      0.7683   \n6      LB    76.99                 3.9886                      1.0000   \n7     WAT   359.10                 0.9571                      0.8673   \n8     MRO    13.97                 1.4158                      0.9683   \n9     TGT   256.84                 1.0793                      0.9129   \n10    EXR   175.12                 0.7548                      0.7723   \n11   IDXX   676.70                 0.9505                      0.8634   \n12      F    15.59                 1.4943                      0.9703   \n13    DVN    30.45                 1.9082                      0.9941   \n14    JCI    69.97                 1.1131                      0.9168   \n15    JCI    58.29                 0.9671                      0.8733   \n16    COP    64.82                 0.6187                      0.6554   \n17   GOOG  2678.61                 0.7920                      0.7941   \n18    IQV   251.65                 0.7735                      0.7822   \n19   INTU   501.39                 0.6653                      0.7030   \n20    GPS    34.20                 1.7418                      0.9861   \n21   CARR    49.04                 1.1928                      0.9307   \n22    HES    92.34                 0.8135                      0.8119   \n23    TXT    71.19                 1.2170                      0.9386   \n24   TROW   209.02                 0.7332                      0.7485   \n26    SEE    61.73                 0.8941                      0.8416   \n27    SYF    50.18                 1.3400                      0.9584   \n28    SLB    33.38                 0.9179                      0.8515   \n29    EOG    89.47                 0.8016                      0.8000   \n30   ANET   380.43                 0.7671                      0.7802   \n32   ZBRA   543.80                 1.1722                      0.9248   \n33   WELL    89.08                 0.6342                      0.6673   \n34    SPG   136.05                 1.0697                      0.9069   \n35    DFS   121.60                 1.6106                      0.9782   \n36    WST   380.82                 0.6219                      0.6594   \n37  GOOGL  2625.42                 0.7146                      0.7287   \n38   TWTR    69.20                 1.2548                      0.9465   \n39     MS    94.39                 1.0165                      0.8970   \n40    MSI   224.78                 0.6411                      0.6792   \n41   NTAP    86.92                 0.9987                      0.8851   \n42    PSA   304.53                 0.5841                      0.6158   \n43   EXPD   132.00                 0.6951                      0.7168   \n44   PYPL   294.51                 0.6449                      0.6832   \n45      A   150.90                 0.7122                      0.7267   \n46    XOM    64.83                 0.5831                      0.6139   \n47   MSCI   549.59                 0.5895                      0.6198   \n48   NDAQ   178.75                 0.4792                      0.5267   \n49    MGM    45.18                 1.6378                      0.9802   \n50    MGM    45.18                 1.6378                      0.9802   \n\n    Six Month Price Return  Six Month Return Percentile  \\\n0                   1.1039                       0.9980   \n1                   0.5708                       0.9624   \n2                   0.5869                       0.9683   \n3                   0.9100                       0.9921   \n4                   0.5723                       0.9644   \n5                   0.6590                       0.9802   \n6                   1.0050                       0.9960   \n7                   0.4362                       0.9287   \n8                   1.1628                       1.0000   \n9                   0.3878                       0.8733   \n10                  0.4615                       0.9386   \n11                  0.2911                       0.7307   \n12                  0.7136                       0.9842   \n13                  0.9229                       0.9941   \n14                  0.5111                       0.9505   \n15                  0.5572                       0.9604   \n16                  0.6194                       0.9762   \n17                  0.4581                       0.9366   \n18                  0.3866                       0.8673   \n19                  0.3017                       0.7525   \n20                  0.6897                       0.9822   \n21                  0.3086                       0.7723   \n22                  0.7199                       0.9861   \n23                  0.4349                       0.9248   \n24                  0.3732                       0.8535   \n26                  0.3134                       0.7822   \n27                  0.4343                       0.9188   \n28                  0.5233                       0.9564   \n29                  0.7809                       0.9881   \n30                  0.2589                       0.6713   \n32                  0.3883                       0.8752   \n33                  0.3281                       0.8040   \n34                  0.5983                       0.9723   \n35                  0.3446                       0.8238   \n36                  0.2830                       0.7248   \n37                  0.4137                       0.9050   \n38                  0.2619                       0.6812   \n39                  0.3570                       0.8396   \n40                  0.3056                       0.7663   \n41                  0.2611                       0.6772   \n42                  0.3245                       0.7980   \n43                  0.3486                       0.8257   \n44                  0.2422                       0.6376   \n45                  0.2522                       0.6614   \n46                  0.5899                       0.9703   \n47                  0.2080                       0.5505   \n48                  0.3504                       0.8297   \n49                  0.3994                       0.8891   \n50                  0.3994                       0.8891   \n\n    Three Month Price Return  Three Month Return Percentile  \\\n0                     0.2390                         0.9584   \n1                     0.4760                         1.0000   \n2                     0.3147                         0.9901   \n3                     0.2026                         0.9228   \n4                     0.3285                         0.9960   \n5                     0.3115                         0.9861   \n6                     0.2022                         0.9208   \n7                     0.2416                         0.9604   \n8                     0.2086                         0.9287   \n9                     0.2271                         0.9465   \n10                    0.2337                         0.9545   \n11                    0.3227                         0.9921   \n12                    0.2276                         0.9485   \n13                    0.2869                         0.9842   \n14                    0.1592                         0.8475   \n15                    0.1311                         0.7703   \n16                    0.1808                         0.8931   \n17                    0.1842                         0.9010   \n18                    0.2512                         0.9703   \n19                    0.2464                         0.9644   \n20                    0.1304                         0.7644   \n21                    0.1688                         0.8673   \n22                    0.1988                         0.9149   \n23                    0.2133                         0.9327   \n24                    0.1761                         0.8851   \n26                    0.3138                         0.9881   \n27                    0.1804                         0.8911   \n28                    0.1822                         0.8950   \n29                    0.1532                         0.8317   \n30                    0.1844                         0.9030   \n32                    0.0833                         0.6059   \n33                    0.1565                         0.8436   \n34                    0.1695                         0.8733   \n35                    0.2362                         0.9564   \n36                    0.2832                         0.9802   \n37                    0.1547                         0.8356   \n38                    0.0683                         0.5624   \n39                    0.1904                         0.9089   \n40                    0.1710                         0.8752   \n41                    0.1238                         0.7485   \n42                    0.2038                         0.9248   \n43                    0.1771                         0.8871   \n44                    0.1690                         0.8693   \n45                    0.1644                         0.8574   \n46                    0.1233                         0.7465   \n47                    0.2511                         0.9683   \n48                    0.1755                         0.8832   \n49                    0.0994                         0.6673   \n50                    0.0994                         0.6673   \n\n    One Month Price Return  One Month Return Percentile  Momentum Score  \\\n0                   0.1558                       0.9723          0.9782   \n1                   0.2529                       0.9960          0.9713   \n2                   0.0628                       0.8356          0.9421   \n3                   0.1590                       0.9743          0.9361   \n4                   0.0690                       0.8475          0.9297   \n5                   0.1332                       0.9564          0.9228   \n6                   0.0418                       0.7703          0.9218   \n7                   0.1055                       0.9228          0.9198   \n8                   0.0304                       0.7248          0.9054   \n9                   0.0728                       0.8693          0.9005   \n10                  0.0954                       0.9149          0.8950   \n11                  0.1629                       0.9822          0.8921   \n12                  0.0070                       0.5941          0.8743   \n13                 -0.0044                       0.5050          0.8693   \n14                  0.0339                       0.7386          0.8634   \n15                  0.0610                       0.8317          0.8589   \n16                  0.0807                       0.8832          0.8520   \n17                  0.0417                       0.7663          0.8495   \n18                  0.0426                       0.7743          0.8485   \n19                  0.1212                       0.9505          0.8426   \n20                  0.0126                       0.6297          0.8406   \n21                  0.0443                       0.7861          0.8391   \n22                  0.0160                       0.6416          0.8386   \n23                  0.0001                       0.5505          0.8366   \n24                  0.0709                       0.8574          0.8361   \n26                  0.0267                       0.7030          0.8287   \n27                 -0.0021                       0.5168          0.8213   \n28                  0.0043                       0.5703          0.8183   \n29                  0.0166                       0.6475          0.8168   \n30                  0.0871                       0.8970          0.8129   \n32                  0.0600                       0.8297          0.8089   \n33                  0.0940                       0.9129          0.8069   \n34                 -0.0091                       0.4733          0.8064   \n35                 -0.0103                       0.4574          0.8040   \n36                  0.0676                       0.8455          0.8025   \n37                  0.0290                       0.7188          0.7970   \n38                  0.1927                       0.9921          0.7955   \n39                 -0.0010                       0.5327          0.7946   \n40                  0.0708                       0.8554          0.7941   \n41                  0.0710                       0.8614          0.7931   \n42                  0.0592                       0.8257          0.7911   \n43                  0.0332                       0.7327          0.7906   \n44                  0.1201                       0.9465          0.7842   \n45                  0.0809                       0.8851          0.7827   \n46                  0.0469                       0.7960          0.7817   \n47                  0.1624                       0.9782          0.7792   \n48                  0.0755                       0.8733          0.7782   \n49                  0.0031                       0.5683          0.7762   \n50                  0.0031                       0.5683          0.7762   \n\n    Number of Shares to Buy  \n0                       786  \n1                        96  \n2                      1909  \n3                      2472  \n4                       312  \n5                       322  \n6                      1050  \n7                       225  \n8                      5790  \n9                       314  \n10                      461  \n11                      119  \n12                     5188  \n13                     2656  \n14                     1156  \n15                     1387  \n16                     1247  \n17                       30  \n18                      321  \n19                      161  \n20                     2365  \n21                     1649  \n22                      876  \n23                     1136  \n24                      387  \n26                     1310  \n27                     1612  \n28                     2423  \n29                      904  \n30                      212  \n32                      148  \n33                      908  \n34                      594  \n35                      665  \n36                      212  \n37                       30  \n38                     1169  \n39                      857  \n40                      359  \n41                      930  \n42                      265  \n43                      612  \n44                      274  \n45                      536  \n46                     1247  \n47                      147  \n48                      452  \n49                     1790  \n50                     1790  ",
      "text/html": "<div>\n<style scoped>\n    .dataframe tbody tr th:only-of-type {\n        vertical-align: middle;\n    }\n\n    .dataframe tbody tr th {\n        vertical-align: top;\n    }\n\n    .dataframe thead th {\n        text-align: right;\n    }\n</style>\n<table border=\"1\" class=\"dataframe\">\n  <thead>\n    <tr style=\"text-align: right;\">\n      <th></th>\n      <th>Ticker</th>\n      <th>Price</th>\n      <th>One Year Price Return</th>\n      <th>One Year Return Percentile</th>\n      <th>Six Month Price Return</th>\n      <th>Six Month Return Percentile</th>\n      <th>Three Month Price Return</th>\n      <th>Three Month Return Percentile</th>\n      <th>One Month Price Return</th>\n      <th>One Month Return Percentile</th>\n      <th>Momentum Score</th>\n      <th>Number of Shares to Buy</th>\n    </tr>\n  </thead>\n  <tbody>\n    <tr>\n      <th>0</th>\n      <td>FANG</td>\n      <td>102.81</td>\n      <td>1.6705</td>\n      <td>0.9842</td>\n      <td>1.1039</td>\n      <td>0.9980</td>\n      <td>0.2390</td>\n      <td>0.9584</td>\n      <td>0.1558</td>\n      <td>0.9723</td>\n      <td>0.9782</td>\n      <td>786</td>\n    </tr>\n    <tr>\n      <th>1</th>\n      <td>NVDA</td>\n      <td>836.32</td>\n      <td>1.1759</td>\n      <td>0.9267</td>\n      <td>0.5708</td>\n      <td>0.9624</td>\n      <td>0.4760</td>\n      <td>1.0000</td>\n      <td>0.2529</td>\n      <td>0.9960</td>\n      <td>0.9713</td>\n      <td>96</td>\n    </tr>\n    <tr>\n      <th>2</th>\n      <td>DXC</td>\n      <td>42.36</td>\n      <td>1.5616</td>\n      <td>0.9743</td>\n      <td>0.5869</td>\n      <td>0.9683</td>\n      <td>0.3147</td>\n      <td>0.9901</td>\n      <td>0.0628</td>\n      <td>0.8356</td>\n      <td>0.9421</td>\n      <td>1909</td>\n    </tr>\n    <tr>\n      <th>3</th>\n      <td>OXY</td>\n      <td>32.72</td>\n      <td>0.9275</td>\n      <td>0.8554</td>\n      <td>0.9100</td>\n      <td>0.9921</td>\n      <td>0.2026</td>\n      <td>0.9228</td>\n      <td>0.1590</td>\n      <td>0.9743</td>\n      <td>0.9361</td>\n      <td>2472</td>\n    </tr>\n    <tr>\n      <th>4</th>\n      <td>IT</td>\n      <td>258.87</td>\n      <td>1.0752</td>\n      <td>0.9109</td>\n      <td>0.5723</td>\n      <td>0.9644</td>\n      <td>0.3285</td>\n      <td>0.9960</td>\n      <td>0.0690</td>\n      <td>0.8475</td>\n      <td>0.9297</td>\n      <td>312</td>\n    </tr>\n    <tr>\n      <th>5</th>\n      <td>FTNT</td>\n      <td>251.21</td>\n      <td>0.7522</td>\n      <td>0.7683</td>\n      <td>0.6590</td>\n      <td>0.9802</td>\n      <td>0.3115</td>\n      <td>0.9861</td>\n      <td>0.1332</td>\n      <td>0.9564</td>\n      <td>0.9228</td>\n      <td>322</td>\n    </tr>\n    <tr>\n      <th>6</th>\n      <td>LB</td>\n      <td>76.99</td>\n      <td>3.9886</td>\n      <td>1.0000</td>\n      <td>1.0050</td>\n      <td>0.9960</td>\n      <td>0.2022</td>\n      <td>0.9208</td>\n      <td>0.0418</td>\n      <td>0.7703</td>\n      <td>0.9218</td>\n      <td>1050</td>\n    </tr>\n    <tr>\n      <th>7</th>\n      <td>WAT</td>\n      <td>359.10</td>\n      <td>0.9571</td>\n      <td>0.8673</td>\n      <td>0.4362</td>\n      <td>0.9287</td>\n      <td>0.2416</td>\n      <td>0.9604</td>\n      <td>0.1055</td>\n      <td>0.9228</td>\n      <td>0.9198</td>\n      <td>225</td>\n    </tr>\n    <tr>\n      <th>8</th>\n      <td>MRO</td>\n      <td>13.97</td>\n      <td>1.4158</td>\n      <td>0.9683</td>\n      <td>1.1628</td>\n      <td>1.0000</td>\n      <td>0.2086</td>\n      <td>0.9287</td>\n      <td>0.0304</td>\n      <td>0.7248</td>\n      <td>0.9054</td>\n      <td>5790</td>\n    </tr>\n    <tr>\n      <th>9</th>\n      <td>TGT</td>\n      <td>256.84</td>\n      <td>1.0793</td>\n      <td>0.9129</td>\n      <td>0.3878</td>\n      <td>0.8733</td>\n      <td>0.2271</td>\n      <td>0.9465</td>\n      <td>0.0728</td>\n      <td>0.8693</td>\n      <td>0.9005</td>\n      <td>314</td>\n    </tr>\n    <tr>\n      <th>10</th>\n      <td>EXR</td>\n      <td>175.12</td>\n      <td>0.7548</td>\n      <td>0.7723</td>\n      <td>0.4615</td>\n      <td>0.9386</td>\n      <td>0.2337</td>\n      <td>0.9545</td>\n      <td>0.0954</td>\n      <td>0.9149</td>\n      <td>0.8950</td>\n      <td>461</td>\n    </tr>\n    <tr>\n      <th>11</th>\n      <td>IDXX</td>\n      <td>676.70</td>\n      <td>0.9505</td>\n      <td>0.8634</td>\n      <td>0.2911</td>\n      <td>0.7307</td>\n      <td>0.3227</td>\n      <td>0.9921</td>\n      <td>0.1629</td>\n      <td>0.9822</td>\n      <td>0.8921</td>\n      <td>119</td>\n    </tr>\n    <tr>\n      <th>12</th>\n      <td>F</td>\n      <td>15.59</td>\n      <td>1.4943</td>\n      <td>0.9703</td>\n      <td>0.7136</td>\n      <td>0.9842</td>\n      <td>0.2276</td>\n      <td>0.9485</td>\n      <td>0.0070</td>\n      <td>0.5941</td>\n      <td>0.8743</td>\n      <td>5188</td>\n    </tr>\n    <tr>\n      <th>13</th>\n      <td>DVN</td>\n      <td>30.45</td>\n      <td>1.9082</td>\n      <td>0.9941</td>\n      <td>0.9229</td>\n      <td>0.9941</td>\n      <td>0.2869</td>\n      <td>0.9842</td>\n      <td>-0.0044</td>\n      <td>0.5050</td>\n      <td>0.8693</td>\n      <td>2656</td>\n    </tr>\n    <tr>\n      <th>14</th>\n      <td>JCI</td>\n      <td>69.97</td>\n      <td>1.1131</td>\n      <td>0.9168</td>\n      <td>0.5111</td>\n      <td>0.9505</td>\n      <td>0.1592</td>\n      <td>0.8475</td>\n      <td>0.0339</td>\n      <td>0.7386</td>\n      <td>0.8634</td>\n      <td>1156</td>\n    </tr>\n    <tr>\n      <th>15</th>\n      <td>JCI</td>\n      <td>58.29</td>\n      <td>0.9671</td>\n      <td>0.8733</td>\n      <td>0.5572</td>\n      <td>0.9604</td>\n      <td>0.1311</td>\n      <td>0.7703</td>\n      <td>0.0610</td>\n      <td>0.8317</td>\n      <td>0.8589</td>\n      <td>1387</td>\n    </tr>\n    <tr>\n      <th>16</th>\n      <td>COP</td>\n      <td>64.82</td>\n      <td>0.6187</td>\n      <td>0.6554</td>\n      <td>0.6194</td>\n      <td>0.9762</td>\n      <td>0.1808</td>\n      <td>0.8931</td>\n      <td>0.0807</td>\n      <td>0.8832</td>\n      <td>0.8520</td>\n      <td>1247</td>\n    </tr>\n    <tr>\n      <th>17</th>\n      <td>GOOG</td>\n      <td>2678.61</td>\n      <td>0.7920</td>\n      <td>0.7941</td>\n      <td>0.4581</td>\n      <td>0.9366</td>\n      <td>0.1842</td>\n      <td>0.9010</td>\n      <td>0.0417</td>\n      <td>0.7663</td>\n      <td>0.8495</td>\n      <td>30</td>\n    </tr>\n    <tr>\n      <th>18</th>\n      <td>IQV</td>\n      <td>251.65</td>\n      <td>0.7735</td>\n      <td>0.7822</td>\n      <td>0.3866</td>\n      <td>0.8673</td>\n      <td>0.2512</td>\n      <td>0.9703</td>\n      <td>0.0426</td>\n      <td>0.7743</td>\n      <td>0.8485</td>\n      <td>321</td>\n    </tr>\n    <tr>\n      <th>19</th>\n      <td>INTU</td>\n      <td>501.39</td>\n      <td>0.6653</td>\n      <td>0.7030</td>\n      <td>0.3017</td>\n      <td>0.7525</td>\n      <td>0.2464</td>\n      <td>0.9644</td>\n      <td>0.1212</td>\n      <td>0.9505</td>\n      <td>0.8426</td>\n      <td>161</td>\n    </tr>\n    <tr>\n      <th>20</th>\n      <td>GPS</td>\n      <td>34.20</td>\n      <td>1.7418</td>\n      <td>0.9861</td>\n      <td>0.6897</td>\n      <td>0.9822</td>\n      <td>0.1304</td>\n      <td>0.7644</td>\n      <td>0.0126</td>\n      <td>0.6297</td>\n      <td>0.8406</td>\n      <td>2365</td>\n    </tr>\n    <tr>\n      <th>21</th>\n      <td>CARR</td>\n      <td>49.04</td>\n      <td>1.1928</td>\n      <td>0.9307</td>\n      <td>0.3086</td>\n      <td>0.7723</td>\n      <td>0.1688</td>\n      <td>0.8673</td>\n      <td>0.0443</td>\n      <td>0.7861</td>\n      <td>0.8391</td>\n      <td>1649</td>\n    </tr>\n    <tr>\n      <th>22</th>\n      <td>HES</td>\n      <td>92.34</td>\n      <td>0.8135</td>\n      <td>0.8119</td>\n      <td>0.7199</td>\n      <td>0.9861</td>\n      <td>0.1988</td>\n      <td>0.9149</td>\n      <td>0.0160</td>\n      <td>0.6416</td>\n      <td>0.8386</td>\n      <td>876</td>\n    </tr>\n    <tr>\n      <th>23</th>\n      <td>TXT</td>\n      <td>71.19</td>\n      <td>1.2170</td>\n      <td>0.9386</td>\n      <td>0.4349</td>\n      <td>0.9248</td>\n      <td>0.2133</td>\n      <td>0.9327</td>\n      <td>0.0001</td>\n      <td>0.5505</td>\n      <td>0.8366</td>\n      <td>1136</td>\n    </tr>\n    <tr>\n      <th>24</th>\n      <td>TROW</td>\n      <td>209.02</td>\n      <td>0.7332</td>\n      <td>0.7485</td>\n      <td>0.3732</td>\n      <td>0.8535</td>\n      <td>0.1761</td>\n      <td>0.8851</td>\n      <td>0.0709</td>\n      <td>0.8574</td>\n      <td>0.8361</td>\n      <td>387</td>\n    </tr>\n    <tr>\n      <th>26</th>\n      <td>SEE</td>\n      <td>61.73</td>\n      <td>0.8941</td>\n      <td>0.8416</td>\n      <td>0.3134</td>\n      <td>0.7822</td>\n      <td>0.3138</td>\n      <td>0.9881</td>\n      <td>0.0267</td>\n      <td>0.7030</td>\n      <td>0.8287</td>\n      <td>1310</td>\n    </tr>\n    <tr>\n      <th>27</th>\n      <td>SYF</td>\n      <td>50.18</td>\n      <td>1.3400</td>\n      <td>0.9584</td>\n      <td>0.4343</td>\n      <td>0.9188</td>\n      <td>0.1804</td>\n      <td>0.8911</td>\n      <td>-0.0021</td>\n      <td>0.5168</td>\n      <td>0.8213</td>\n      <td>1612</td>\n    </tr>\n    <tr>\n      <th>28</th>\n      <td>SLB</td>\n      <td>33.38</td>\n      <td>0.9179</td>\n      <td>0.8515</td>\n      <td>0.5233</td>\n      <td>0.9564</td>\n      <td>0.1822</td>\n      <td>0.8950</td>\n      <td>0.0043</td>\n      <td>0.5703</td>\n      <td>0.8183</td>\n      <td>2423</td>\n    </tr>\n    <tr>\n      <th>29</th>\n      <td>EOG</td>\n      <td>89.47</td>\n      <td>0.8016</td>\n      <td>0.8000</td>\n      <td>0.7809</td>\n      <td>0.9881</td>\n      <td>0.1532</td>\n      <td>0.8317</td>\n      <td>0.0166</td>\n      <td>0.6475</td>\n      <td>0.8168</td>\n      <td>904</td>\n    </tr>\n    <tr>\n      <th>30</th>\n      <td>ANET</td>\n      <td>380.43</td>\n      <td>0.7671</td>\n      <td>0.7802</td>\n      <td>0.2589</td>\n      <td>0.6713</td>\n      <td>0.1844</td>\n      <td>0.9030</td>\n      <td>0.0871</td>\n      <td>0.8970</td>\n      <td>0.8129</td>\n      <td>212</td>\n    </tr>\n    <tr>\n      <th>32</th>\n      <td>ZBRA</td>\n      <td>543.80</td>\n      <td>1.1722</td>\n      <td>0.9248</td>\n      <td>0.3883</td>\n      <td>0.8752</td>\n      <td>0.0833</td>\n      <td>0.6059</td>\n      <td>0.0600</td>\n      <td>0.8297</td>\n      <td>0.8089</td>\n      <td>148</td>\n    </tr>\n    <tr>\n      <th>33</th>\n      <td>WELL</td>\n      <td>89.08</td>\n      <td>0.6342</td>\n      <td>0.6673</td>\n      <td>0.3281</td>\n      <td>0.8040</td>\n      <td>0.1565</td>\n      <td>0.8436</td>\n      <td>0.0940</td>\n      <td>0.9129</td>\n      <td>0.8069</td>\n      <td>908</td>\n    </tr>\n    <tr>\n      <th>34</th>\n      <td>SPG</td>\n      <td>136.05</td>\n      <td>1.0697</td>\n      <td>0.9069</td>\n      <td>0.5983</td>\n      <td>0.9723</td>\n      <td>0.1695</td>\n      <td>0.8733</td>\n      <td>-0.0091</td>\n      <td>0.4733</td>\n      <td>0.8064</td>\n      <td>594</td>\n    </tr>\n    <tr>\n      <th>35</th>\n      <td>DFS</td>\n      <td>121.60</td>\n      <td>1.6106</td>\n      <td>0.9782</td>\n      <td>0.3446</td>\n      <td>0.8238</td>\n      <td>0.2362</td>\n      <td>0.9564</td>\n      <td>-0.0103</td>\n      <td>0.4574</td>\n      <td>0.8040</td>\n      <td>665</td>\n    </tr>\n    <tr>\n      <th>36</th>\n      <td>WST</td>\n      <td>380.82</td>\n      <td>0.6219</td>\n      <td>0.6594</td>\n      <td>0.2830</td>\n      <td>0.7248</td>\n      <td>0.2832</td>\n      <td>0.9802</td>\n      <td>0.0676</td>\n      <td>0.8455</td>\n      <td>0.8025</td>\n      <td>212</td>\n    </tr>\n    <tr>\n      <th>37</th>\n      <td>GOOGL</td>\n      <td>2625.42</td>\n      <td>0.7146</td>\n      <td>0.7287</td>\n      <td>0.4137</td>\n      <td>0.9050</td>\n      <td>0.1547</td>\n      <td>0.8356</td>\n      <td>0.0290</td>\n      <td>0.7188</td>\n      <td>0.7970</td>\n      <td>30</td>\n    </tr>\n    <tr>\n      <th>38</th>\n      <td>TWTR</td>\n      <td>69.20</td>\n      <td>1.2548</td>\n      <td>0.9465</td>\n      <td>0.2619</td>\n      <td>0.6812</td>\n      <td>0.0683</td>\n      <td>0.5624</td>\n      <td>0.1927</td>\n      <td>0.9921</td>\n      <td>0.7955</td>\n      <td>1169</td>\n    </tr>\n    <tr>\n      <th>39</th>\n      <td>MS</td>\n      <td>94.39</td>\n      <td>1.0165</td>\n      <td>0.8970</td>\n      <td>0.3570</td>\n      <td>0.8396</td>\n      <td>0.1904</td>\n      <td>0.9089</td>\n      <td>-0.0010</td>\n      <td>0.5327</td>\n      <td>0.7946</td>\n      <td>857</td>\n    </tr>\n    <tr>\n      <th>40</th>\n      <td>MSI</td>\n      <td>224.78</td>\n      <td>0.6411</td>\n      <td>0.6792</td>\n      <td>0.3056</td>\n      <td>0.7663</td>\n      <td>0.1710</td>\n      <td>0.8752</td>\n      <td>0.0708</td>\n      <td>0.8554</td>\n      <td>0.7941</td>\n      <td>359</td>\n    </tr>\n    <tr>\n      <th>41</th>\n      <td>NTAP</td>\n      <td>86.92</td>\n      <td>0.9987</td>\n      <td>0.8851</td>\n      <td>0.2611</td>\n      <td>0.6772</td>\n      <td>0.1238</td>\n      <td>0.7485</td>\n      <td>0.0710</td>\n      <td>0.8614</td>\n      <td>0.7931</td>\n      <td>930</td>\n    </tr>\n    <tr>\n      <th>42</th>\n      <td>PSA</td>\n      <td>304.53</td>\n      <td>0.5841</td>\n      <td>0.6158</td>\n      <td>0.3245</td>\n      <td>0.7980</td>\n      <td>0.2038</td>\n      <td>0.9248</td>\n      <td>0.0592</td>\n      <td>0.8257</td>\n      <td>0.7911</td>\n      <td>265</td>\n    </tr>\n    <tr>\n      <th>43</th>\n      <td>EXPD</td>\n      <td>132.00</td>\n      <td>0.6951</td>\n      <td>0.7168</td>\n      <td>0.3486</td>\n      <td>0.8257</td>\n      <td>0.1771</td>\n      <td>0.8871</td>\n      <td>0.0332</td>\n      <td>0.7327</td>\n      <td>0.7906</td>\n      <td>612</td>\n    </tr>\n    <tr>\n      <th>44</th>\n      <td>PYPL</td>\n      <td>294.51</td>\n      <td>0.6449</td>\n      <td>0.6832</td>\n      <td>0.2422</td>\n      <td>0.6376</td>\n      <td>0.1690</td>\n      <td>0.8693</td>\n      <td>0.1201</td>\n      <td>0.9465</td>\n      <td>0.7842</td>\n      <td>274</td>\n    </tr>\n    <tr>\n      <th>45</th>\n      <td>A</td>\n      <td>150.90</td>\n      <td>0.7122</td>\n      <td>0.7267</td>\n      <td>0.2522</td>\n      <td>0.6614</td>\n      <td>0.1644</td>\n      <td>0.8574</td>\n      <td>0.0809</td>\n      <td>0.8851</td>\n      <td>0.7827</td>\n      <td>536</td>\n    </tr>\n    <tr>\n      <th>46</th>\n      <td>XOM</td>\n      <td>64.83</td>\n      <td>0.5831</td>\n      <td>0.6139</td>\n      <td>0.5899</td>\n      <td>0.9703</td>\n      <td>0.1233</td>\n      <td>0.7465</td>\n      <td>0.0469</td>\n      <td>0.7960</td>\n      <td>0.7817</td>\n      <td>1247</td>\n    </tr>\n    <tr>\n      <th>47</th>\n      <td>MSCI</td>\n      <td>549.59</td>\n      <td>0.5895</td>\n      <td>0.6198</td>\n      <td>0.2080</td>\n      <td>0.5505</td>\n      <td>0.2511</td>\n      <td>0.9683</td>\n      <td>0.1624</td>\n      <td>0.9782</td>\n      <td>0.7792</td>\n      <td>147</td>\n    </tr>\n    <tr>\n      <th>48</th>\n      <td>NDAQ</td>\n      <td>178.75</td>\n      <td>0.4792</td>\n      <td>0.5267</td>\n      <td>0.3504</td>\n      <td>0.8297</td>\n      <td>0.1755</td>\n      <td>0.8832</td>\n      <td>0.0755</td>\n      <td>0.8733</td>\n      <td>0.7782</td>\n      <td>452</td>\n    </tr>\n    <tr>\n      <th>49</th>\n      <td>MGM</td>\n      <td>45.18</td>\n      <td>1.6378</td>\n      <td>0.9802</td>\n      <td>0.3994</td>\n      <td>0.8891</td>\n      <td>0.0994</td>\n      <td>0.6673</td>\n      <td>0.0031</td>\n      <td>0.5683</td>\n      <td>0.7762</td>\n      <td>1790</td>\n    </tr>\n    <tr>\n      <th>50</th>\n      <td>MGM</td>\n      <td>45.18</td>\n      <td>1.6378</td>\n      <td>0.9802</td>\n      <td>0.3994</td>\n      <td>0.8891</td>\n      <td>0.0994</td>\n      <td>0.6673</td>\n      <td>0.0031</td>\n      <td>0.5683</td>\n      <td>0.7762</td>\n      <td>1790</td>\n    </tr>\n  </tbody>\n</table>\n</div>"
     },
     "execution_count": 12,
     "metadata": {},
     "output_type": "execute_result"
    }
   ],
   "source": [
    "df"
   ],
   "metadata": {
    "collapsed": false,
    "ExecuteTime": {
     "end_time": "2023-11-08T17:25:00.694740Z",
     "start_time": "2023-11-08T17:25:00.623215Z"
    }
   }
  }
 ],
 "metadata": {
  "kernelspec": {
   "display_name": "Python 3",
   "language": "python",
   "name": "python3"
  },
  "language_info": {
   "codemirror_mode": {
    "name": "ipython",
    "version": 3
   },
   "file_extension": ".py",
   "mimetype": "text/x-python",
   "name": "python",
   "nbconvert_exporter": "python",
   "pygments_lexer": "ipython3",
   "version": "3.11.6"
  }
 },
 "nbformat": 4,
 "nbformat_minor": 2
}
